{
  "nbformat": 4,
  "nbformat_minor": 0,
  "metadata": {
    "colab": {
      "provenance": [],
      "authorship_tag": "ABX9TyNGmixybhiCeI2pYgBUVhyi",
      "include_colab_link": true
    },
    "kernelspec": {
      "name": "python3",
      "display_name": "Python 3"
    },
    "language_info": {
      "name": "python"
    }
  },
  "cells": [
    {
      "cell_type": "markdown",
      "metadata": {
        "id": "view-in-github",
        "colab_type": "text"
      },
      "source": [
        "<a href=\"https://colab.research.google.com/github/Raoina/NLP-Learning-Journey/blob/main/Preprocessing_Tasks.ipynb\" target=\"_parent\"><img src=\"https://colab.research.google.com/assets/colab-badge.svg\" alt=\"Open In Colab\"/></a>"
      ]
    },
    {
      "cell_type": "code",
      "execution_count": 2,
      "metadata": {
        "colab": {
          "base_uri": "https://localhost:8080/"
        },
        "id": "JG4D2oDw3Rja",
        "outputId": "584180f7-03fd-4d88-844a-ee1f05b952aa"
      },
      "outputs": [
        {
          "output_type": "stream",
          "name": "stdout",
          "text": [
            "hi my name is rowiana and i need to learn more about nlp\n"
          ]
        }
      ],
      "source": [
        "def lowercase(text):\n",
        "  return text.lower()\n",
        "\n",
        "text = \"HI MY NAME IS ROWIANA AND I NEED TO LEARN MORE ABOUT NLP\"\n",
        "print(lowercase(text))"
      ]
    },
    {
      "cell_type": "code",
      "source": [],
      "metadata": {
        "id": "fD2gqiVd3nzV"
      },
      "execution_count": null,
      "outputs": []
    }
  ]
}