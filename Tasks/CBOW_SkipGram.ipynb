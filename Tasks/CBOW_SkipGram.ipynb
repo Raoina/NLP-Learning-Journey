{
  "nbformat": 4,
  "nbformat_minor": 0,
  "metadata": {
    "colab": {
      "provenance": [],
      "authorship_tag": "ABX9TyP44dFDI9dBSGA6gmUyVntG",
      "include_colab_link": true
    },
    "kernelspec": {
      "name": "python3",
      "display_name": "Python 3"
    },
    "language_info": {
      "name": "python"
    }
  },
  "cells": [
    {
      "cell_type": "markdown",
      "metadata": {
        "id": "view-in-github",
        "colab_type": "text"
      },
      "source": [
        "<a href=\"https://colab.research.google.com/github/Raoina/NLP-Learning-Journey/blob/main/CBOW_SkipGram.ipynb\" target=\"_parent\"><img src=\"https://colab.research.google.com/assets/colab-badge.svg\" alt=\"Open In Colab\"/></a>"
      ]
    },
    {
      "cell_type": "code",
      "source": [
        "!pip install gensim"
      ],
      "metadata": {
        "id": "9oSDyWJvl6hf"
      },
      "execution_count": null,
      "outputs": []
    },
    {
      "cell_type": "code",
      "source": [
        "import gensim\n",
        "import gensim.downloader\n",
        "import numpy as np"
      ],
      "metadata": {
        "id": "4a1kwQiGpF0t"
      },
      "execution_count": 6,
      "outputs": []
    },
    {
      "cell_type": "code",
      "source": [
        "model = gensim.downloader.load('glove-wiki-gigaword-100')"
      ],
      "metadata": {
        "id": "7p4CGH72pIVP"
      },
      "execution_count": 7,
      "outputs": []
    },
    {
      "cell_type": "code",
      "source": [
        "print(model['apple'])"
      ],
      "metadata": {
        "colab": {
          "base_uri": "https://localhost:8080/"
        },
        "id": "1cN1Bjk0pLXk",
        "outputId": "4f54c616-1165-48b5-a675-38e9f323c4c3"
      },
      "execution_count": 8,
      "outputs": [
        {
          "output_type": "stream",
          "name": "stdout",
          "text": [
            "[-0.5985    -0.46321    0.13001   -0.019576   0.4603    -0.3018\n",
            "  0.8977    -0.65634    0.66858   -0.49164    0.037557  -0.050889\n",
            "  0.6451    -0.53882   -0.3765    -0.04312    0.51384    0.17783\n",
            "  0.28596    0.92063   -0.49349   -0.48583    0.61321    0.78211\n",
            "  0.19254    0.91228   -0.055596  -0.12512   -0.65688    0.068557\n",
            "  0.55629    1.611     -0.0073642 -0.48879    0.45493    0.96105\n",
            " -0.063369   0.17432    0.9814    -1.3125    -0.15801   -0.54301\n",
            " -0.13888   -0.26146   -0.3691     0.26844   -0.24375   -0.19484\n",
            "  0.62583   -0.7377     0.38351   -0.75004   -0.39053    0.091498\n",
            " -0.36591   -1.4715    -0.45228    0.2256     1.1412    -0.38526\n",
            " -0.06716    0.57288   -0.39191    0.31302   -0.29235   -0.96157\n",
            "  0.15154   -0.21659    0.25103    0.096967   0.2843     1.4296\n",
            " -0.50565   -0.51374   -0.47218    0.32036    0.023149   0.22623\n",
            " -0.09725    0.82126    0.92599   -1.0086    -0.38639    0.86408\n",
            " -1.206     -0.28528    0.2265    -0.38773    0.40879    0.59303\n",
            "  0.30769    0.83804   -0.63655   -0.44639   -0.43406   -0.79364\n",
            " -0.28675   -0.034398   1.3431     0.34904  ]\n"
          ]
        }
      ]
    },
    {
      "cell_type": "code",
      "source": [
        "words = ['engineer','girl','queen','king', 'boy','cat']"
      ],
      "metadata": {
        "id": "u1NuMU6wq9Qo"
      },
      "execution_count": 18,
      "outputs": []
    },
    {
      "cell_type": "code",
      "source": [
        "def CBOW(model,my_words):\n",
        "    avg_vector = np.mean([model[word] for word in my_words], axis=0)\n",
        "    return model.similar_by_vector(avg_vector, topn=5)\n",
        "CBOW(model,[\"man\",\"doctor\",'cow'])"
      ],
      "metadata": {
        "colab": {
          "base_uri": "https://localhost:8080/"
        },
        "id": "ew7O-FsGqCK2",
        "outputId": "bacd08ee-5112-4b4c-f8a1-bba21b2852e5"
      },
      "execution_count": 21,
      "outputs": [
        {
          "output_type": "execute_result",
          "data": {
            "text/plain": [
              "[('man', 0.8301182389259338),\n",
              " ('doctor', 0.8056380152702332),\n",
              " ('boy', 0.7704204320907593),\n",
              " ('woman', 0.7638495564460754),\n",
              " ('cow', 0.7162233591079712)]"
            ]
          },
          "metadata": {},
          "execution_count": 21
        }
      ]
    },
    {
      "cell_type": "code",
      "source": [
        "def skipgram(model,words):\n",
        "    result = []\n",
        "    for word in words:\n",
        "        result.append(model.most_similar(word,topn=5))\n",
        "    return result\n",
        "skipgram(model,words)"
      ],
      "metadata": {
        "colab": {
          "base_uri": "https://localhost:8080/"
        },
        "id": "gQkVX0nyqZo_",
        "outputId": "e8b7a2a1-06e2-47b6-f4ea-be4cba4c7f29"
      },
      "execution_count": 22,
      "outputs": [
        {
          "output_type": "execute_result",
          "data": {
            "text/plain": [
              "[[('engineers', 0.7049852609634399),\n",
              "  ('technician', 0.7031463980674744),\n",
              "  ('mechanic', 0.669628381729126),\n",
              "  ('engineering', 0.6665581464767456),\n",
              "  ('architect', 0.6495680809020996)],\n",
              " [('boy', 0.9175729751586914),\n",
              "  ('woman', 0.847267210483551),\n",
              "  ('girls', 0.7953023314476013),\n",
              "  ('mother', 0.7880713939666748),\n",
              "  ('child', 0.7634812593460083)],\n",
              " [('princess', 0.7947245240211487),\n",
              "  ('king', 0.7507690191268921),\n",
              "  ('elizabeth', 0.7355712056159973),\n",
              "  ('royal', 0.7065026164054871),\n",
              "  ('lady', 0.7044796943664551)],\n",
              " [('prince', 0.7682328820228577),\n",
              "  ('queen', 0.7507690787315369),\n",
              "  ('son', 0.7020888328552246),\n",
              "  ('brother', 0.6985775232315063),\n",
              "  ('monarch', 0.6977890729904175)],\n",
              " [('girl', 0.9175730347633362),\n",
              "  ('man', 0.7914870977401733),\n",
              "  ('kid', 0.7826382517814636),\n",
              "  ('woman', 0.7720510363578796),\n",
              "  ('boys', 0.7572498321533203)],\n",
              " [('dog', 0.8798074722290039),\n",
              "  ('rabbit', 0.7424427270889282),\n",
              "  ('cats', 0.732300341129303),\n",
              "  ('monkey', 0.7288709878921509),\n",
              "  ('pet', 0.719014048576355)]]"
            ]
          },
          "metadata": {},
          "execution_count": 22
        }
      ]
    },
    {
      "cell_type": "code",
      "source": [],
      "metadata": {
        "id": "BXsEdmckq4k6"
      },
      "execution_count": null,
      "outputs": []
    }
  ]
}
