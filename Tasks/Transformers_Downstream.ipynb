{
  "nbformat": 4,
  "nbformat_minor": 0,
  "metadata": {
    "colab": {
      "provenance": [],
      "authorship_tag": "ABX9TyPkd6EunIPXTdn6Pg9CA5ci",
      "include_colab_link": true
    },
    "kernelspec": {
      "name": "python3",
      "display_name": "Python 3"
    },
    "language_info": {
      "name": "python"
    }
  },
  "cells": [
    {
      "cell_type": "markdown",
      "metadata": {
        "id": "view-in-github",
        "colab_type": "text"
      },
      "source": [
        "<a href=\"https://colab.research.google.com/github/Raoina/NLP-Learning-Journey/blob/main/Tasks/Transformers_Downstream.ipynb\" target=\"_parent\"><img src=\"https://colab.research.google.com/assets/colab-badge.svg\" alt=\"Open In Colab\"/></a>"
      ]
    },
    {
      "cell_type": "code",
      "execution_count": null,
      "metadata": {
        "id": "WE07pDUyPgtu"
      },
      "outputs": [],
      "source": [
        "pip install transformers torch"
      ]
    },
    {
      "cell_type": "markdown",
      "source": [
        "#  Sentiment Analysis"
      ],
      "metadata": {
        "id": "17NO3n0jQySg"
      }
    },
    {
      "cell_type": "code",
      "source": [
        "from transformers import pipeline\n",
        "\n",
        "sentiment_analyzer = pipeline(\"sentiment-analysis\")\n",
        "\n",
        "result = sentiment_analyzer(\"I love using transformers from Hugging Face!\")\n"
      ],
      "metadata": {
        "id": "3tYahpdXPiFb"
      },
      "execution_count": null,
      "outputs": []
    },
    {
      "cell_type": "code",
      "source": [
        "print(result)"
      ],
      "metadata": {
        "colab": {
          "base_uri": "https://localhost:8080/"
        },
        "id": "kdZeOcdDQNZB",
        "outputId": "a0caa93a-89d5-4c1b-c5b2-05f52a536301"
      },
      "execution_count": 3,
      "outputs": [
        {
          "output_type": "stream",
          "name": "stdout",
          "text": [
            "[{'label': 'POSITIVE', 'score': 0.9973857998847961}]\n"
          ]
        }
      ]
    },
    {
      "cell_type": "markdown",
      "source": [
        "# Named Entity Recognition (NER)"
      ],
      "metadata": {
        "id": "NuIkZvZ_P10C"
      }
    },
    {
      "cell_type": "code",
      "source": [
        "from transformers import pipeline\n",
        "\n",
        "ner_pipeline = pipeline(\"ner\", grouped_entities=True)\n",
        "\n",
        "text = \"Barack Obama was born in Hawaii.\"\n",
        "\n",
        "entities = ner_pipeline(text)"
      ],
      "metadata": {
        "id": "QmJs2NLhPqId"
      },
      "execution_count": null,
      "outputs": []
    },
    {
      "cell_type": "code",
      "source": [
        "print(entities)"
      ],
      "metadata": {
        "colab": {
          "base_uri": "https://localhost:8080/"
        },
        "id": "B9fWC4V-QRSP",
        "outputId": "d9beb0a7-1d64-46be-d4ab-3801a954b129"
      },
      "execution_count": 5,
      "outputs": [
        {
          "output_type": "stream",
          "name": "stdout",
          "text": [
            "[{'entity_group': 'PER', 'score': np.float32(0.99917614), 'word': 'Barack Obama', 'start': 0, 'end': 12}, {'entity_group': 'LOC', 'score': np.float32(0.99945), 'word': 'Hawaii', 'start': 25, 'end': 31}]\n"
          ]
        }
      ]
    },
    {
      "cell_type": "markdown",
      "source": [
        "# Text Summarization"
      ],
      "metadata": {
        "id": "Tp0LdEsIP4mq"
      }
    },
    {
      "cell_type": "code",
      "source": [
        "from transformers import pipeline\n",
        "\n",
        "summarizer = pipeline(\"summarization\")\n",
        "\n",
        "article = \"\"\"\n",
        "Artificial intelligence (AI) is intelligence demonstrated by machines, unlike the natural intelligence displayed by humans and animals.\n",
        "Leading AI textbooks define the field as the study of \"intelligent agents\": any device that perceives its environment and takes actions\n",
        "that maximize its chance of successfully achieving its goals.\n",
        "\"\"\"\n",
        "\n",
        "summary = summarizer(article, max_length=50, min_length=25, do_sample=False)"
      ],
      "metadata": {
        "id": "OqNuCS84P5V3"
      },
      "execution_count": null,
      "outputs": []
    },
    {
      "cell_type": "code",
      "source": [
        "print(summary[0]['summary_text'])"
      ],
      "metadata": {
        "colab": {
          "base_uri": "https://localhost:8080/"
        },
        "id": "Ya5ltaD5QbB1",
        "outputId": "2c7cab0c-e062-4605-b9e2-2d689aa2d42e"
      },
      "execution_count": 7,
      "outputs": [
        {
          "output_type": "stream",
          "name": "stdout",
          "text": [
            " Artificial intelligence (AI) is intelligence demonstrated by machines, unlike the natural intelligence displayed by humans and animals . Leading AI textbooks define the field as the study of \"intelligent agents\"\n"
          ]
        }
      ]
    }
  ]
}